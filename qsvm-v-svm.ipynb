{
 "cells": [
  {
   "cell_type": "code",
   "execution_count": 1,
   "id": "46ecdef1",
   "metadata": {
    "_cell_guid": "b1076dfc-b9ad-4769-8c92-a6c4dae69d19",
    "_uuid": "8f2839f25d086af736a60e9eeb907d3b93b6e0e5",
    "execution": {
     "iopub.execute_input": "2025-04-11T10:16:06.806672Z",
     "iopub.status.busy": "2025-04-11T10:16:06.806393Z",
     "iopub.status.idle": "2025-04-11T10:16:16.165614Z",
     "shell.execute_reply": "2025-04-11T10:16:16.164550Z"
    },
    "papermill": {
     "duration": 9.364903,
     "end_time": "2025-04-11T10:16:16.167590",
     "exception": false,
     "start_time": "2025-04-11T10:16:06.802687",
     "status": "completed"
    },
    "tags": []
   },
   "outputs": [
    {
     "name": "stdout",
     "output_type": "stream",
     "text": [
      "Collecting pennylane-lightning-gpu\r\n",
      "  Downloading PennyLane_Lightning_GPU-0.40.0-cp310-cp310-manylinux_2_28_x86_64.whl.metadata (28 kB)\r\n",
      "Collecting pennylane>=0.37 (from pennylane-lightning-gpu)\r\n",
      "  Downloading PennyLane-0.40.0-py3-none-any.whl.metadata (10 kB)\r\n",
      "Collecting scipy-openblas32>=0.3.26 (from pennylane-lightning-gpu)\r\n",
      "  Downloading scipy_openblas32-0.3.29.0.0-py3-none-manylinux_2_17_x86_64.manylinux2014_x86_64.whl.metadata (56 kB)\r\n",
      "\u001b[2K     \u001b[90m━━━━━━━━━━━━━━━━━━━━━━━━━━━━━━━━━━━━━━━━\u001b[0m \u001b[32m56.1/56.1 kB\u001b[0m \u001b[31m3.3 MB/s\u001b[0m eta \u001b[36m0:00:00\u001b[0m\r\n",
      "\u001b[?25hCollecting custatevec-cu12 (from pennylane-lightning-gpu)\r\n",
      "  Downloading custatevec_cu12-1.8.0-py3-none-manylinux2014_x86_64.whl.metadata (2.5 kB)\r\n",
      "Requirement already satisfied: nvidia-nvjitlink-cu12 in /usr/local/lib/python3.10/dist-packages (from pennylane-lightning-gpu) (12.6.85)\r\n",
      "Requirement already satisfied: nvidia-cusparse-cu12 in /usr/local/lib/python3.10/dist-packages (from pennylane-lightning-gpu) (12.5.4.2)\r\n",
      "Requirement already satisfied: nvidia-cublas-cu12 in /usr/local/lib/python3.10/dist-packages (from pennylane-lightning-gpu) (12.6.4.1)\r\n",
      "Requirement already satisfied: nvidia-cuda-runtime-cu12 in /usr/local/lib/python3.10/dist-packages (from pennylane-lightning-gpu) (12.6.77)\r\n",
      "Collecting pennylane_lightning==0.40.0 (from pennylane-lightning-gpu)\r\n",
      "  Downloading PennyLane_Lightning-0.40.0-cp310-cp310-manylinux_2_28_x86_64.whl.metadata (27 kB)\r\n",
      "Requirement already satisfied: numpy<2.1 in /usr/local/lib/python3.10/dist-packages (from pennylane>=0.37->pennylane-lightning-gpu) (1.26.4)\r\n",
      "Requirement already satisfied: scipy in /usr/local/lib/python3.10/dist-packages (from pennylane>=0.37->pennylane-lightning-gpu) (1.13.1)\r\n",
      "Requirement already satisfied: networkx in /usr/local/lib/python3.10/dist-packages (from pennylane>=0.37->pennylane-lightning-gpu) (3.4.2)\r\n",
      "Collecting rustworkx>=0.14.0 (from pennylane>=0.37->pennylane-lightning-gpu)\r\n",
      "  Downloading rustworkx-0.16.0-cp39-abi3-manylinux_2_17_x86_64.manylinux2014_x86_64.whl.metadata (10 kB)\r\n",
      "Requirement already satisfied: autograd in /usr/local/lib/python3.10/dist-packages (from pennylane>=0.37->pennylane-lightning-gpu) (1.7.0)\r\n",
      "Collecting tomlkit (from pennylane>=0.37->pennylane-lightning-gpu)\r\n",
      "  Downloading tomlkit-0.13.2-py3-none-any.whl.metadata (2.7 kB)\r\n",
      "Collecting appdirs (from pennylane>=0.37->pennylane-lightning-gpu)\r\n",
      "  Downloading appdirs-1.4.4-py2.py3-none-any.whl.metadata (9.0 kB)\r\n",
      "Collecting autoray>=0.6.11 (from pennylane>=0.37->pennylane-lightning-gpu)\r\n",
      "  Downloading autoray-0.7.1-py3-none-any.whl.metadata (5.8 kB)\r\n",
      "Requirement already satisfied: cachetools in /usr/local/lib/python3.10/dist-packages (from pennylane>=0.37->pennylane-lightning-gpu) (5.5.0)\r\n",
      "Requirement already satisfied: requests in /usr/local/lib/python3.10/dist-packages (from pennylane>=0.37->pennylane-lightning-gpu) (2.32.3)\r\n",
      "Requirement already satisfied: typing-extensions in /usr/local/lib/python3.10/dist-packages (from pennylane>=0.37->pennylane-lightning-gpu) (4.12.2)\r\n",
      "Requirement already satisfied: packaging in /usr/local/lib/python3.10/dist-packages (from pennylane>=0.37->pennylane-lightning-gpu) (24.2)\r\n",
      "Collecting diastatic-malt (from pennylane>=0.37->pennylane-lightning-gpu)\r\n",
      "  Downloading diastatic_malt-2.15.2-py3-none-any.whl.metadata (2.6 kB)\r\n",
      "Requirement already satisfied: mkl_fft in /usr/local/lib/python3.10/dist-packages (from numpy<2.1->pennylane>=0.37->pennylane-lightning-gpu) (1.3.8)\r\n",
      "Requirement already satisfied: mkl_random in /usr/local/lib/python3.10/dist-packages (from numpy<2.1->pennylane>=0.37->pennylane-lightning-gpu) (1.2.4)\r\n",
      "Requirement already satisfied: mkl_umath in /usr/local/lib/python3.10/dist-packages (from numpy<2.1->pennylane>=0.37->pennylane-lightning-gpu) (0.1.1)\r\n",
      "Requirement already satisfied: mkl in /usr/local/lib/python3.10/dist-packages (from numpy<2.1->pennylane>=0.37->pennylane-lightning-gpu) (2025.0.1)\r\n",
      "Requirement already satisfied: tbb4py in /usr/local/lib/python3.10/dist-packages (from numpy<2.1->pennylane>=0.37->pennylane-lightning-gpu) (2022.0.0)\r\n",
      "Requirement already satisfied: mkl-service in /usr/local/lib/python3.10/dist-packages (from numpy<2.1->pennylane>=0.37->pennylane-lightning-gpu) (2.4.1)\r\n",
      "Requirement already satisfied: astunparse in /usr/local/lib/python3.10/dist-packages (from diastatic-malt->pennylane>=0.37->pennylane-lightning-gpu) (1.6.3)\r\n",
      "Requirement already satisfied: gast in /usr/local/lib/python3.10/dist-packages (from diastatic-malt->pennylane>=0.37->pennylane-lightning-gpu) (0.6.0)\r\n",
      "Requirement already satisfied: termcolor in /usr/local/lib/python3.10/dist-packages (from diastatic-malt->pennylane>=0.37->pennylane-lightning-gpu) (2.5.0)\r\n",
      "Requirement already satisfied: charset-normalizer<4,>=2 in /usr/local/lib/python3.10/dist-packages (from requests->pennylane>=0.37->pennylane-lightning-gpu) (3.4.1)\r\n",
      "Requirement already satisfied: idna<4,>=2.5 in /usr/local/lib/python3.10/dist-packages (from requests->pennylane>=0.37->pennylane-lightning-gpu) (3.10)\r\n",
      "Requirement already satisfied: urllib3<3,>=1.21.1 in /usr/local/lib/python3.10/dist-packages (from requests->pennylane>=0.37->pennylane-lightning-gpu) (2.3.0)\r\n",
      "Requirement already satisfied: certifi>=2017.4.17 in /usr/local/lib/python3.10/dist-packages (from requests->pennylane>=0.37->pennylane-lightning-gpu) (2025.1.31)\r\n",
      "Requirement already satisfied: wheel<1.0,>=0.23.0 in /usr/local/lib/python3.10/dist-packages (from astunparse->diastatic-malt->pennylane>=0.37->pennylane-lightning-gpu) (0.45.1)\r\n",
      "Requirement already satisfied: six<2.0,>=1.6.1 in /usr/local/lib/python3.10/dist-packages (from astunparse->diastatic-malt->pennylane>=0.37->pennylane-lightning-gpu) (1.17.0)\r\n",
      "Requirement already satisfied: intel-openmp>=2024 in /usr/local/lib/python3.10/dist-packages (from mkl->numpy<2.1->pennylane>=0.37->pennylane-lightning-gpu) (2024.2.0)\r\n",
      "Requirement already satisfied: tbb==2022.* in /usr/local/lib/python3.10/dist-packages (from mkl->numpy<2.1->pennylane>=0.37->pennylane-lightning-gpu) (2022.0.0)\r\n",
      "Requirement already satisfied: tcmlib==1.* in /usr/local/lib/python3.10/dist-packages (from tbb==2022.*->mkl->numpy<2.1->pennylane>=0.37->pennylane-lightning-gpu) (1.2.0)\r\n",
      "Requirement already satisfied: intel-cmplr-lib-rt in /usr/local/lib/python3.10/dist-packages (from mkl_umath->numpy<2.1->pennylane>=0.37->pennylane-lightning-gpu) (2024.2.0)\r\n",
      "Requirement already satisfied: intel-cmplr-lib-ur==2024.2.0 in /usr/local/lib/python3.10/dist-packages (from intel-openmp>=2024->mkl->numpy<2.1->pennylane>=0.37->pennylane-lightning-gpu) (2024.2.0)\r\n",
      "Downloading PennyLane_Lightning_GPU-0.40.0-cp310-cp310-manylinux_2_28_x86_64.whl (1.0 MB)\r\n",
      "\u001b[2K   \u001b[90m━━━━━━━━━━━━━━━━━━━━━━━━━━━━━━━━━━━━━━━━\u001b[0m \u001b[32m1.0/1.0 MB\u001b[0m \u001b[31m19.8 MB/s\u001b[0m eta \u001b[36m0:00:00\u001b[0m\r\n",
      "\u001b[?25hDownloading PennyLane_Lightning-0.40.0-cp310-cp310-manylinux_2_28_x86_64.whl (2.4 MB)\r\n",
      "\u001b[2K   \u001b[90m━━━━━━━━━━━━━━━━━━━━━━━━━━━━━━━━━━━━━━━━\u001b[0m \u001b[32m2.4/2.4 MB\u001b[0m \u001b[31m64.2 MB/s\u001b[0m eta \u001b[36m0:00:00\u001b[0m\r\n",
      "\u001b[?25hDownloading PennyLane-0.40.0-py3-none-any.whl (2.0 MB)\r\n",
      "\u001b[2K   \u001b[90m━━━━━━━━━━━━━━━━━━━━━━━━━━━━━━━━━━━━━━━━\u001b[0m \u001b[32m2.0/2.0 MB\u001b[0m \u001b[31m71.3 MB/s\u001b[0m eta \u001b[36m0:00:00\u001b[0m\r\n",
      "\u001b[?25hDownloading scipy_openblas32-0.3.29.0.0-py3-none-manylinux_2_17_x86_64.manylinux2014_x86_64.whl (8.6 MB)\r\n",
      "\u001b[2K   \u001b[90m━━━━━━━━━━━━━━━━━━━━━━━━━━━━━━━━━━━━━━━━\u001b[0m \u001b[32m8.6/8.6 MB\u001b[0m \u001b[31m95.6 MB/s\u001b[0m eta \u001b[36m0:00:00\u001b[0m\r\n",
      "\u001b[?25hDownloading custatevec_cu12-1.8.0-py3-none-manylinux2014_x86_64.whl (44.3 MB)\r\n",
      "\u001b[2K   \u001b[90m━━━━━━━━━━━━━━━━━━━━━━━━━━━━━━━━━━━━━━━━\u001b[0m \u001b[32m44.3/44.3 MB\u001b[0m \u001b[31m37.2 MB/s\u001b[0m eta \u001b[36m0:00:00\u001b[0m\r\n",
      "\u001b[?25hDownloading autoray-0.7.1-py3-none-any.whl (930 kB)\r\n",
      "\u001b[2K   \u001b[90m━━━━━━━━━━━━━━━━━━━━━━━━━━━━━━━━━━━━━━━━\u001b[0m \u001b[32m930.8/930.8 kB\u001b[0m \u001b[31m41.2 MB/s\u001b[0m eta \u001b[36m0:00:00\u001b[0m\r\n",
      "\u001b[?25hDownloading rustworkx-0.16.0-cp39-abi3-manylinux_2_17_x86_64.manylinux2014_x86_64.whl (2.1 MB)\r\n",
      "\u001b[2K   \u001b[90m━━━━━━━━━━━━━━━━━━━━━━━━━━━━━━━━━━━━━━━━\u001b[0m \u001b[32m2.1/2.1 MB\u001b[0m \u001b[31m64.2 MB/s\u001b[0m eta \u001b[36m0:00:00\u001b[0m\r\n",
      "\u001b[?25hDownloading appdirs-1.4.4-py2.py3-none-any.whl (9.6 kB)\r\n",
      "Downloading diastatic_malt-2.15.2-py3-none-any.whl (167 kB)\r\n",
      "\u001b[2K   \u001b[90m━━━━━━━━━━━━━━━━━━━━━━━━━━━━━━━━━━━━━━━━\u001b[0m \u001b[32m167.9/167.9 kB\u001b[0m \u001b[31m13.1 MB/s\u001b[0m eta \u001b[36m0:00:00\u001b[0m\r\n",
      "\u001b[?25hDownloading tomlkit-0.13.2-py3-none-any.whl (37 kB)\r\n",
      "Installing collected packages: custatevec-cu12, appdirs, tomlkit, scipy-openblas32, autoray, diastatic-malt, rustworkx, pennylane_lightning, pennylane, pennylane-lightning-gpu\r\n",
      "Successfully installed appdirs-1.4.4 autoray-0.7.1 custatevec-cu12-1.8.0 diastatic-malt-2.15.2 pennylane-0.40.0 pennylane-lightning-gpu-0.40.0 pennylane_lightning-0.40.0 rustworkx-0.16.0 scipy-openblas32-0.3.29.0.0 tomlkit-0.13.2\r\n"
     ]
    }
   ],
   "source": [
    "!pip install pennylane-lightning-gpu"
   ]
  },
  {
   "cell_type": "code",
   "execution_count": 2,
   "id": "f39bbf7c",
   "metadata": {
    "execution": {
     "iopub.execute_input": "2025-04-11T10:16:16.178165Z",
     "iopub.status.busy": "2025-04-11T10:16:16.177903Z",
     "iopub.status.idle": "2025-04-11T10:16:16.397027Z",
     "shell.execute_reply": "2025-04-11T10:16:16.396165Z"
    },
    "papermill": {
     "duration": 0.225676,
     "end_time": "2025-04-11T10:16:16.398437",
     "exception": false,
     "start_time": "2025-04-11T10:16:16.172761",
     "status": "completed"
    },
    "tags": []
   },
   "outputs": [
    {
     "name": "stdout",
     "output_type": "stream",
     "text": [
      "Fri Apr 11 10:16:16 2025       \r\n",
      "+-----------------------------------------------------------------------------------------+\r\n",
      "| NVIDIA-SMI 560.35.03              Driver Version: 560.35.03      CUDA Version: 12.6     |\r\n",
      "|-----------------------------------------+------------------------+----------------------+\r\n",
      "| GPU  Name                 Persistence-M | Bus-Id          Disp.A | Volatile Uncorr. ECC |\r\n",
      "| Fan  Temp   Perf          Pwr:Usage/Cap |           Memory-Usage | GPU-Util  Compute M. |\r\n",
      "|                                         |                        |               MIG M. |\r\n",
      "|=========================================+========================+======================|\r\n",
      "|   0  Tesla T4                       Off |   00000000:00:04.0 Off |                    0 |\r\n",
      "| N/A   41C    P8              9W /   70W |       1MiB /  15360MiB |      0%      Default |\r\n",
      "|                                         |                        |                  N/A |\r\n",
      "+-----------------------------------------+------------------------+----------------------+\r\n",
      "|   1  Tesla T4                       Off |   00000000:00:05.0 Off |                    0 |\r\n",
      "| N/A   43C    P8              9W /   70W |       1MiB /  15360MiB |      0%      Default |\r\n",
      "|                                         |                        |                  N/A |\r\n",
      "+-----------------------------------------+------------------------+----------------------+\r\n",
      "                                                                                         \r\n",
      "+-----------------------------------------------------------------------------------------+\r\n",
      "| Processes:                                                                              |\r\n",
      "|  GPU   GI   CI        PID   Type   Process name                              GPU Memory |\r\n",
      "|        ID   ID                                                               Usage      |\r\n",
      "|=========================================================================================|\r\n",
      "|  No running processes found                                                             |\r\n",
      "+-----------------------------------------------------------------------------------------+\r\n"
     ]
    }
   ],
   "source": [
    "!nvidia-smi"
   ]
  },
  {
   "cell_type": "code",
   "execution_count": 3,
   "id": "c909713b",
   "metadata": {
    "execution": {
     "iopub.execute_input": "2025-04-11T10:16:16.408672Z",
     "iopub.status.busy": "2025-04-11T10:16:16.408411Z",
     "iopub.status.idle": "2025-04-11T10:16:23.142448Z",
     "shell.execute_reply": "2025-04-11T10:16:23.141625Z"
    },
    "papermill": {
     "duration": 6.740674,
     "end_time": "2025-04-11T10:16:23.143701",
     "exception": false,
     "start_time": "2025-04-11T10:16:16.403027",
     "status": "completed"
    },
    "tags": []
   },
   "outputs": [
    {
     "name": "stdout",
     "output_type": "stream",
     "text": [
      "0.925982538685191\n",
      "True\n",
      "Size of Train_set :  (455, 8)\n",
      "Size of Test_set :  (114, 8)\n"
     ]
    }
   ],
   "source": [
    "import numpy as np\n",
    "from sklearn.datasets import load_breast_cancer\n",
    "from sklearn.model_selection import train_test_split\n",
    "from sklearn.preprocessing import StandardScaler\n",
    "from sklearn.decomposition import PCA\n",
    "from sklearn.svm import SVC\n",
    "import torch\n",
    "import pandas as pd\n",
    "import time\n",
    "import matplotlib.pyplot as plt\n",
    "import seaborn as sns\n",
    "# ------------------------------\n",
    "# 1. Load and preprocess the data\n",
    "# ------------------------------\n",
    "# Load the UCI Breast Cancer (WDBC) dataset\n",
    "data = load_breast_cancer()\n",
    "X = data.data   # 30 features\n",
    "y = data.target # 0 for malignant, 1 for benign\n",
    "\n",
    "X_Scaled=StandardScaler().fit_transform(X)\n",
    "df=pd.DataFrame(X_Scaled,columns=data.feature_names)\n",
    "# Reduce to 4 features using PCA (to keep the quantum circuit manageable)\n",
    "pca = PCA(n_components=8)\n",
    "X_reduced = pca.fit_transform(X_Scaled)\n",
    "\n",
    "print(pca.explained_variance_ratio_.sum())\n",
    "\n",
    "# Split into training and testing sets\n",
    "X_train, X_test, y_train, y_test = train_test_split(X_reduced,y, test_size=0.2, random_state=42)\n",
    "print(torch.cuda.is_available())\n",
    "print(\"Size of Train_set : \",X_train.shape)\n",
    "print(\"Size of Test_set : \",X_test.shape)"
   ]
  },
  {
   "cell_type": "code",
   "execution_count": 4,
   "id": "b187dc1a",
   "metadata": {
    "execution": {
     "iopub.execute_input": "2025-04-11T10:16:23.154174Z",
     "iopub.status.busy": "2025-04-11T10:16:23.153801Z",
     "iopub.status.idle": "2025-04-11T10:16:23.190929Z",
     "shell.execute_reply": "2025-04-11T10:16:23.190223Z"
    },
    "papermill": {
     "duration": 0.043509,
     "end_time": "2025-04-11T10:16:23.192191",
     "exception": false,
     "start_time": "2025-04-11T10:16:23.148682",
     "status": "completed"
    },
    "tags": []
   },
   "outputs": [
    {
     "name": "stdout",
     "output_type": "stream",
     "text": [
      "Total CUDA GPUs PyTorch can see: 2\n",
      "Device 0: Tesla T4\n",
      "Device 1: Tesla T4\n"
     ]
    }
   ],
   "source": [
    "import torch\n",
    "\n",
    "print(\"Total CUDA GPUs PyTorch can see:\", torch.cuda.device_count())\n",
    "for i in range(torch.cuda.device_count()):\n",
    "    print(f\"Device {i}: {torch.cuda.get_device_name(i)}\")"
   ]
  },
  {
   "cell_type": "code",
   "execution_count": 5,
   "id": "b01fd8ab",
   "metadata": {
    "execution": {
     "iopub.execute_input": "2025-04-11T10:16:23.202225Z",
     "iopub.status.busy": "2025-04-11T10:16:23.201973Z",
     "iopub.status.idle": "2025-04-11T10:16:23.213892Z",
     "shell.execute_reply": "2025-04-11T10:16:23.213084Z"
    },
    "papermill": {
     "duration": 0.018388,
     "end_time": "2025-04-11T10:16:23.215066",
     "exception": false,
     "start_time": "2025-04-11T10:16:23.196678",
     "status": "completed"
    },
    "tags": []
   },
   "outputs": [
    {
     "name": "stdout",
     "output_type": "stream",
     "text": [
      "Classical Kernel SVM Accuracy: 98.25%\n",
      "Total Time Taken by Classical Kernel:0.006212711334228516\n",
      "<class 'torch.device'>\n"
     ]
    }
   ],
   "source": [
    "svm = SVC(kernel='linear')\n",
    "st=time.time()\n",
    "svm.fit(X_train, y_train)\n",
    "et=time.time()\n",
    "y_pred_svm = svm.predict(X_test)\n",
    "accuracy_svm = np.mean(y_pred_svm == y_test) * 100\n",
    "print(f\"Classical Kernel SVM Accuracy: {accuracy_svm:.2f}%\")\n",
    "print(f\"Total Time Taken by Classical Kernel:{et-st}\")\n",
    "print(torch.device)"
   ]
  },
  {
   "cell_type": "code",
   "execution_count": 6,
   "id": "0bdf2ebc",
   "metadata": {
    "execution": {
     "iopub.execute_input": "2025-04-11T10:16:23.224882Z",
     "iopub.status.busy": "2025-04-11T10:16:23.224651Z",
     "iopub.status.idle": "2025-04-11T10:16:23.229386Z",
     "shell.execute_reply": "2025-04-11T10:16:23.228477Z"
    },
    "papermill": {
     "duration": 0.010928,
     "end_time": "2025-04-11T10:16:23.230631",
     "exception": false,
     "start_time": "2025-04-11T10:16:23.219703",
     "status": "completed"
    },
    "tags": []
   },
   "outputs": [
    {
     "name": "stdout",
     "output_type": "stream",
     "text": [
      "Tesla T4\n",
      "Tesla T4\n"
     ]
    }
   ],
   "source": [
    "import torch\n",
    "\n",
    "device0 = torch.device(\"cuda:0\")  # First Tesla T4\n",
    "device1 = torch.device(\"cuda:1\")  # Second Tesla T4\n",
    "\n",
    "print(torch.cuda.get_device_name(0))  # Should print Tesla T4\n",
    "print(torch.cuda.get_device_name(1))"
   ]
  },
  {
   "cell_type": "code",
   "execution_count": 7,
   "id": "dcefc48f",
   "metadata": {
    "execution": {
     "iopub.execute_input": "2025-04-11T10:16:23.240633Z",
     "iopub.status.busy": "2025-04-11T10:16:23.240424Z",
     "iopub.status.idle": "2025-04-11T10:28:56.997744Z",
     "shell.execute_reply": "2025-04-11T10:28:56.996661Z"
    },
    "papermill": {
     "duration": 753.768295,
     "end_time": "2025-04-11T10:28:57.003411",
     "exception": false,
     "start_time": "2025-04-11T10:16:23.235116",
     "status": "completed"
    },
    "tags": []
   },
   "outputs": [
    {
     "name": "stdout",
     "output_type": "stream",
     "text": [
      "Computing training kernel matrix...\n",
      "Computing test kernel matrix...\n",
      "Training accuracy with angle feature map: 0.9912\n",
      "Test accuracy with angle feature map: 0.9561\n"
     ]
    }
   ],
   "source": [
    "import pennylane as qml\n",
    "import multiprocessing as mp\n",
    "import numpy as np\n",
    "import os\n",
    "from sklearn.svm import SVC\n",
    "from sklearn.metrics import accuracy_score\n",
    "\n",
    "NUM_QUBITS = 8\n",
    "\n",
    "# Define feature map options\n",
    "def angle_feature_map(x, wires):\n",
    "    \"\"\"Angle Embedding feature map with additional rotations\"\"\"\n",
    "    x = np.pi * (x - min(x)) / (max(x) - min(x) + 1e-6)\n",
    "    qml.AngleEmbedding(x, wires=wires, rotation='Z')\n",
    "    for i in range(NUM_QUBITS):\n",
    "        qml.RY(x[i], wires=i)\n",
    "\n",
    "def amplitude_feature_map(x, wires):\n",
    "    \"\"\"Amplitude Embedding feature map with padding and normalization\"\"\"\n",
    "    x = x / np.sqrt(np.sum(np.abs(x)**2) + 1e-6)\n",
    "    qml.AmplitudeEmbedding(x, wires=wires, pad_with=0.0, normalize=True)\n",
    "    for i in range(NUM_QUBITS):\n",
    "        qml.RZ(weights[i], wires=i)\n",
    "\n",
    "FEATURE_MAPS = {\n",
    "    'angle': angle_feature_map,\n",
    "    'amplitude': amplitude_feature_map\n",
    "}\n",
    "\n",
    "def make_device():\n",
    "    \"\"\"Create a single GPU device\"\"\"\n",
    "    return qml.device(\"lightning.gpu\", wires=NUM_QUBITS)\n",
    "\n",
    "def quantum_kernel_element(x1, x2, dev, weights, feature_map_type='angle'):\n",
    "    feature_map = FEATURE_MAPS[feature_map_type]\n",
    "    \n",
    "    @qml.qnode(dev)\n",
    "    def circuit(weights):\n",
    "        feature_map(x1, wires=range(NUM_QUBITS))\n",
    "        qml.adjoint(feature_map)(x2, wires=range(NUM_QUBITS))\n",
    "        return qml.probs(wires=range(NUM_QUBITS))\n",
    "    \n",
    "    return circuit(weights)[0].item()\n",
    "\n",
    "def compute_kernel_matrix(X1, X2, weights, feature_map_type='angle'):\n",
    "    \"\"\"Compute kernel matrix using a single GPU\"\"\"\n",
    "    dev = make_device()\n",
    "    n1, n2 = len(X1), len(X2)\n",
    "    K = np.zeros((n1, n2))\n",
    "    \n",
    "    for i in range(n1):\n",
    "        for j in range(n2):\n",
    "            K[i, j] = quantum_kernel_element(X1[i], X2[j], dev, weights, feature_map_type)\n",
    "    \n",
    "    return K\n",
    "\n",
    "\n",
    "feature_map_type = 'angle'\n",
    "weights = np.random.uniform(low=0, high=2*np.pi, size=(NUM_QUBITS,))\n",
    "\n",
    "print(\"Computing training kernel matrix...\")\n",
    "K_train = compute_kernel_matrix(X_train, X_train, weights, feature_map_type)\n",
    "print(\"Computing test kernel matrix...\")\n",
    "K_test = compute_kernel_matrix(X_test, X_train, weights, feature_map_type)\n",
    "\n",
    "# clf = SVC(kernel='precomputed', C=1.0, class_weight='balanced')\n",
    "clf = SVC(kernel='precomputed', C=1.0, class_weight='balanced')\n",
    "clf.fit(K_train, y_train)\n",
    "\n",
    "train_acc = accuracy_score(y_train, clf.predict(K_train))\n",
    "test_acc = accuracy_score(y_test, clf.predict(K_test))\n",
    "    \n",
    "print(f\"Training accuracy with {feature_map_type} feature map: {train_acc:.4f}\")\n",
    "print(f\"Test accuracy with {feature_map_type} feature map: {test_acc:.4f}\")"
   ]
  },
  {
   "cell_type": "code",
   "execution_count": 8,
   "id": "8959e0bc",
   "metadata": {
    "execution": {
     "iopub.execute_input": "2025-04-11T10:28:57.014142Z",
     "iopub.status.busy": "2025-04-11T10:28:57.013594Z",
     "iopub.status.idle": "2025-04-11T10:28:57.022965Z",
     "shell.execute_reply": "2025-04-11T10:28:57.022229Z"
    },
    "papermill": {
     "duration": 0.015926,
     "end_time": "2025-04-11T10:28:57.024263",
     "exception": false,
     "start_time": "2025-04-11T10:28:57.008337",
     "status": "completed"
    },
    "tags": []
   },
   "outputs": [
    {
     "name": "stdout",
     "output_type": "stream",
     "text": [
      "Training accuracy with angle feature map: 0.9912\n",
      "Test accuracy with angle feature map: 0.9561\n"
     ]
    }
   ],
   "source": [
    "clf = SVC(kernel='precomputed')\n",
    "clf.fit(K_train, y_train)\n",
    "\n",
    "train_acc = accuracy_score(y_train, clf.predict(K_train))\n",
    "test_acc = accuracy_score(y_test, clf.predict(K_test))\n",
    "    \n",
    "print(f\"Training accuracy with {feature_map_type} feature map: {train_acc:.4f}\")\n",
    "print(f\"Test accuracy with {feature_map_type} feature map: {test_acc:.4f}\")"
   ]
  },
  {
   "cell_type": "code",
   "execution_count": 9,
   "id": "046f1171",
   "metadata": {
    "execution": {
     "iopub.execute_input": "2025-04-11T10:28:57.035640Z",
     "iopub.status.busy": "2025-04-11T10:28:57.035351Z",
     "iopub.status.idle": "2025-04-11T10:28:57.059190Z",
     "shell.execute_reply": "2025-04-11T10:28:57.058337Z"
    },
    "papermill": {
     "duration": 0.030475,
     "end_time": "2025-04-11T10:28:57.060353",
     "exception": false,
     "start_time": "2025-04-11T10:28:57.029878",
     "status": "completed"
    },
    "tags": []
   },
   "outputs": [
    {
     "name": "stdout",
     "output_type": "stream",
     "text": [
      "Cross-validation scores: 0.9582 ± 0.0264\n"
     ]
    }
   ],
   "source": [
    "from sklearn.model_selection import cross_val_score\n",
    "scores = cross_val_score(clf, K_train, y_train, cv=5)\n",
    "print(f\"Cross-validation scores: {scores.mean():.4f} ± {scores.std():.4f}\")"
   ]
  },
  {
   "cell_type": "code",
   "execution_count": 10,
   "id": "6a482598",
   "metadata": {
    "execution": {
     "iopub.execute_input": "2025-04-11T10:28:57.071548Z",
     "iopub.status.busy": "2025-04-11T10:28:57.071246Z",
     "iopub.status.idle": "2025-04-11T10:28:57.082234Z",
     "shell.execute_reply": "2025-04-11T10:28:57.081404Z"
    },
    "papermill": {
     "duration": 0.01771,
     "end_time": "2025-04-11T10:28:57.083408",
     "exception": false,
     "start_time": "2025-04-11T10:28:57.065698",
     "status": "completed"
    },
    "tags": []
   },
   "outputs": [
    {
     "name": "stdout",
     "output_type": "stream",
     "text": [
      "Classical RBF Test Accuracy: 0.9561\n"
     ]
    }
   ],
   "source": [
    "clf_classical = SVC(kernel='rbf', C=1.0, class_weight='balanced')\n",
    "clf_classical.fit(X_train, y_train)\n",
    "print(f\"Classical RBF Test Accuracy: {clf_classical.score(X_test, y_test):.4f}\")"
   ]
  }
 ],
 "metadata": {
  "kaggle": {
   "accelerator": "nvidiaTeslaT4",
   "dataSources": [],
   "dockerImageVersionId": 30919,
   "isGpuEnabled": true,
   "isInternetEnabled": true,
   "language": "python",
   "sourceType": "notebook"
  },
  "kernelspec": {
   "display_name": "Python 3",
   "language": "python",
   "name": "python3"
  },
  "language_info": {
   "codemirror_mode": {
    "name": "ipython",
    "version": 3
   },
   "file_extension": ".py",
   "mimetype": "text/x-python",
   "name": "python",
   "nbconvert_exporter": "python",
   "pygments_lexer": "ipython3",
   "version": "3.10.12"
  },
  "papermill": {
   "default_parameters": {},
   "duration": 776.155722,
   "end_time": "2025-04-11T10:29:00.118235",
   "environment_variables": {},
   "exception": null,
   "input_path": "__notebook__.ipynb",
   "output_path": "__notebook__.ipynb",
   "parameters": {},
   "start_time": "2025-04-11T10:16:03.962513",
   "version": "2.6.0"
  }
 },
 "nbformat": 4,
 "nbformat_minor": 5
}
